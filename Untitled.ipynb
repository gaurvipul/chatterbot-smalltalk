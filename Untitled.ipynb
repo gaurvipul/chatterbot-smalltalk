{
 "cells": [
  {
   "cell_type": "code",
   "execution_count": 3,
   "metadata": {},
   "outputs": [
    {
     "name": "stdout",
     "output_type": "stream",
     "text": [
      "File exists:False\n"
     ]
    }
   ],
   "source": [
    "import os\n",
    "if os.path.exists('output.txt'):\n",
    "    os.system('rm output.txt')\n",
    "    os.system('git add --all')\n",
    "    os.system('git commit -m \"Updates\"')\n",
    "    os.system('git push -u origin master')"
   ]
  },
  {
   "cell_type": "code",
   "execution_count": 4,
   "metadata": {},
   "outputs": [
    {
     "name": "stdout",
     "output_type": "stream",
     "text": [
      "Writing output.txt\n"
     ]
    }
   ],
   "source": [
    "%%writefile output.txt\n",
    "\n",
    "abcd\n",
    "sdwemdw\n",
    "dwedw"
   ]
  },
  {
   "cell_type": "code",
   "execution_count": 6,
   "metadata": {},
   "outputs": [
    {
     "name": "stdout",
     "output_type": "stream",
     "text": [
      "\r\n",
      "abcd\r\n",
      "sdwemdw\r\n",
      "dwedw\r\n"
     ]
    }
   ],
   "source": [
    "cat output.txt"
   ]
  },
  {
   "cell_type": "code",
   "execution_count": null,
   "metadata": {},
   "outputs": [],
   "source": [
    "os.system('git add --all')\n",
    "os.system('git commit -m \"Updates\"')\n",
    "os.system('git push -u origin master')"
   ]
  }
 ],
 "metadata": {
  "kernelspec": {
   "display_name": "Python 3",
   "language": "python",
   "name": "python3"
  },
  "language_info": {
   "codemirror_mode": {
    "name": "ipython",
    "version": 3
   },
   "file_extension": ".py",
   "mimetype": "text/x-python",
   "name": "python",
   "nbconvert_exporter": "python",
   "pygments_lexer": "ipython3",
   "version": "3.7.4"
  }
 },
 "nbformat": 4,
 "nbformat_minor": 2
}
